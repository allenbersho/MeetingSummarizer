{
 "cells": [
  {
   "cell_type": "code",
   "execution_count": null,
   "id": "3f78844f",
   "metadata": {},
   "outputs": [
    {
     "ename": "",
     "evalue": "",
     "output_type": "error",
     "traceback": [
      "\u001b[1;31mRunning cells with 'Python 3.13.2' requires the ipykernel package.\n",
      "\u001b[1;31mRun the following command to install 'ipykernel' into the Python environment. \n",
      "\u001b[1;31mCommand: 'c:/Users/allen/AppData/Local/Programs/Python/Python313/python.exe -m pip install ipykernel -U --user --force-reinstall'"
     ]
    }
   ],
   "source": [
    "from openai import OpenAI\n",
    "\n",
    "base_url = \"https://api.aimlapi.com/v1\"\n",
    "\n",
    "# Insert your AIML API Key in the quotation marks instead of my_key:\n",
    "api_key = \"f38c75cea732491dbd03a3dad0babb84\" \n",
    "\n"
   ]
  },
  {
   "cell_type": "code",
   "execution_count": null,
   "id": "6eda808c",
   "metadata": {},
   "outputs": [],
   "source": [
    "system_prompt = \"You are a travel agent. Be descriptive and helpful.\"\n",
    "user_prompt = \"How much words could u handle as a single prompt\"\n",
    "\n",
    "api = OpenAI(api_key=api_key, base_url=base_url)"
   ]
  },
  {
   "cell_type": "code",
   "execution_count": null,
   "id": "ac74e554",
   "metadata": {},
   "outputs": [],
   "source": [
    "completion = api.chat.completions.create(\n",
    "    model=\"gpt-4o\",\n",
    "    messages=[\n",
    "        {\"role\": \"user\", \"content\": user_prompt},\n",
    "        ],\n",
    "    temperature=0.7,\n",
    "    max_tokens=256,\n",
    ")\n",
    "\n",
    "response = completion.choices[0].message.content\n",
    "\n",
    "print(\"User:\", user_prompt)\n",
    "print(\"AI:\", response)"
   ]
  },
  {
   "cell_type": "code",
   "execution_count": null,
   "id": "aad0a565",
   "metadata": {},
   "outputs": [],
   "source": [
    "audio_file = open('harvard.wav','rb')"
   ]
  },
  {
   "cell_type": "code",
   "execution_count": null,
   "id": "26b8c043",
   "metadata": {},
   "outputs": [],
   "source": [
    "audio_text = api.audio.transcriptions.create(\n",
    "    model='whisper-1',\n",
    "    file = audio_file,\n",
    "    response_format='text'\n",
    ")\n",
    "\n",
    "audio_text"
   ]
  },
  {
   "cell_type": "code",
   "execution_count": null,
   "id": "29c7a15c",
   "metadata": {},
   "outputs": [],
   "source": [
    "audio_text.text"
   ]
  },
  {
   "cell_type": "code",
   "execution_count": null,
   "id": "da5bc8f4",
   "metadata": {},
   "outputs": [],
   "source": []
  }
 ],
 "metadata": {
  "kernelspec": {
   "display_name": "Python 3",
   "language": "python",
   "name": "python3"
  },
  "language_info": {
   "codemirror_mode": {
    "name": "ipython",
    "version": 3
   },
   "file_extension": ".py",
   "mimetype": "text/x-python",
   "name": "python",
   "nbconvert_exporter": "python",
   "pygments_lexer": "ipython3",
   "version": "3.13.2"
  }
 },
 "nbformat": 4,
 "nbformat_minor": 5
}
